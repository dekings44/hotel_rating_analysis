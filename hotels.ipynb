{
 "cells": [
  {
   "cell_type": "code",
   "execution_count": 1,
   "id": "7fabb317-f3dc-49a7-98f2-1c7ba48b0af2",
   "metadata": {},
   "outputs": [],
   "source": [
    "from urllib import response\n",
    "import requests\n",
    "from bs4 import BeautifulSoup\n",
    "import re\n",
    "import pandas as pd\n",
    "import matplotlib.pyplot as plt\n",
    "import seaborn as sns\n",
    "import plotly.express as px"
   ]
  },
  {
   "cell_type": "code",
   "execution_count": 2,
   "id": "5a1f11ab-7909-47a7-b2ed-973843502723",
   "metadata": {},
   "outputs": [],
   "source": [
    "#Accessing the url\n",
    "\n",
    "url = 'https://www.booking.com/searchresults.en-gb.html?ss=London&ssne=London&ssne_untouched=London&label=gen173nr-1FCAEoggI46AdIM1gEaFCIAQGYAQm4ARfIAQzYAQHoAQH4AQuIAgGoAgO4AtLB_JEGwAIB0gIkZDg0Y2M3MjYtZjc0Yy00OTI0LWFmNTEtNzFhOTc3MTY0ZjBk2AIG4AIB&sid=828d71aca926f8532f0cb1f47b533b81&aid=304142&lang=en-gb&sb=1&src_elem=sb&src=searchresults&dest_id=-2601889&dest_type=city&checkin=2022-07-16&checkout=2022-07-17&group_adults=2&no_rooms=1&group_children=0&sb_travel_purpose=leisure'"
   ]
  },
  {
   "cell_type": "code",
   "execution_count": 3,
   "id": "48675ac4-93cd-4fa7-8569-8e0bfd3a5952",
   "metadata": {},
   "outputs": [],
   "source": [
    "header = {'User-Agent':'Mozilla/5.0 (Macintosh; Intel Mac OS X 10_13_6) AppleWebKit/537.36 (KHTML, like Gecko) Chrome/71.0.3578.98 Safari/537.36'}"
   ]
  },
  {
   "cell_type": "code",
   "execution_count": 4,
   "id": "0a940d93-2087-4455-a7bc-0e919d0283da",
   "metadata": {},
   "outputs": [],
   "source": [
    "#Get the downloaded web page\n",
    "get_page = requests.get(url, headers=header)"
   ]
  },
  {
   "cell_type": "code",
   "execution_count": 5,
   "id": "18bace4a-f7a4-4fbf-9df0-c7cbff188516",
   "metadata": {},
   "outputs": [
    {
     "data": {
      "text/plain": [
       "200"
      ]
     },
     "execution_count": 5,
     "metadata": {},
     "output_type": "execute_result"
    }
   ],
   "source": [
    "get_page.status_code"
   ]
  },
  {
   "cell_type": "code",
   "execution_count": 6,
   "id": "b20fb63f-7330-4b56-a56b-549604964312",
   "metadata": {},
   "outputs": [
    {
     "data": {
      "text/plain": [
       "1425252"
      ]
     },
     "execution_count": 6,
     "metadata": {},
     "output_type": "execute_result"
    }
   ],
   "source": [
    "response = get_page.content\n",
    "len(response)"
   ]
  },
  {
   "cell_type": "code",
   "execution_count": 7,
   "id": "993bd3fe-0744-483d-8d0b-82c95bcc1247",
   "metadata": {},
   "outputs": [],
   "source": [
    "#Getting the web data using beautiful soup\n",
    "\n",
    "webpage_data = BeautifulSoup(response, 'html5lib')"
   ]
  },
  {
   "cell_type": "code",
   "execution_count": 8,
   "id": "e79fbde3-f382-430d-bb47-8876ae063309",
   "metadata": {},
   "outputs": [],
   "source": [
    "# Getting the the hotel name\n",
    "\n",
    "hotel_name = [name.text for name in webpage_data.findAll('div', {'data-testid' : 'title'})]"
   ]
  },
  {
   "cell_type": "code",
   "execution_count": 9,
   "id": "376651c6-bc5c-4ffe-90b2-4570b7c3bef5",
   "metadata": {},
   "outputs": [
    {
     "data": {
      "text/plain": [
       "['Sanderson London',\n",
       " 'Sea Containers London',\n",
       " 'Britannia International Hotel Canary Wharf',\n",
       " 'The Z Hotel Tottenham Court Road',\n",
       " 'The Z Hotel Holborn',\n",
       " 'The Z Hotel City',\n",
       " 'DoubleTree by Hilton Hotel London - Tower of London',\n",
       " 'The Z Hotel Victoria',\n",
       " 'Montcalm Royal London House-City of London',\n",
       " 'Chelsea Cloisters',\n",
       " 'The Montcalm At Brewery London City',\n",
       " 'easyHotel London City Shoreditch',\n",
       " 'The Z Hotel Shoreditch',\n",
       " 'The Judd Hotel',\n",
       " 'Grand Royale London Hyde Park',\n",
       " 'Strand Palace Hotel',\n",
       " 'The Z Hotel Trafalgar',\n",
       " 'Zedwell Piccadilly',\n",
       " 'Heeton Concept Hotel - Kensington London',\n",
       " \"Club Quarters Hotel St Paul's, London\",\n",
       " 'Hilton London Metropole',\n",
       " 'Hampton by Hilton London Waterloo',\n",
       " 'Crowne Plaza London Kings Cross, an IHG Hotel',\n",
       " 'The Crescent Hyde Park',\n",
       " 'The Sanctuary House Hotel']"
      ]
     },
     "execution_count": 9,
     "metadata": {},
     "output_type": "execute_result"
    }
   ],
   "source": [
    "hotel_name"
   ]
  },
  {
   "cell_type": "code",
   "execution_count": 10,
   "id": "2ccf017e-7021-4ecd-9166-3c419f158352",
   "metadata": {},
   "outputs": [],
   "source": [
    "rating_decription = [loc.text.strip('Show on map') for loc in webpage_data.findAll('div', {'class' : 'b5cd09854e f0d4d6a2f5 e46e88563a'})]"
   ]
  },
  {
   "cell_type": "code",
   "execution_count": 11,
   "id": "36a21f7c-3fe4-43c5-999b-2fc2c64ac272",
   "metadata": {},
   "outputs": [
    {
     "data": {
      "text/plain": [
       "['Very good',\n",
       " 'Fabulous',\n",
       " 'Review score',\n",
       " 'Very good',\n",
       " 'Very good',\n",
       " 'Very good',\n",
       " 'Good',\n",
       " 'Very good',\n",
       " 'Very good',\n",
       " 'Good',\n",
       " 'Good',\n",
       " 'Review score',\n",
       " 'Very good',\n",
       " 'Good',\n",
       " 'Good',\n",
       " 'Very good',\n",
       " 'Fabulous',\n",
       " 'Good',\n",
       " 'Good',\n",
       " 'Good',\n",
       " 'Good',\n",
       " 'Very good',\n",
       " 'Good',\n",
       " 'Very good',\n",
       " 'Fabulous']"
      ]
     },
     "execution_count": 11,
     "metadata": {},
     "output_type": "execute_result"
    }
   ],
   "source": [
    "rating_decription"
   ]
  },
  {
   "cell_type": "code",
   "execution_count": 12,
   "id": "cf4a953b-cc57-4575-a0af-566ac9f37079",
   "metadata": {},
   "outputs": [],
   "source": [
    "reviews = [stat.text.strip() for stat in webpage_data.findAll('div', {'class' : 'd8eab2cf7f c90c0a70d3 db63693c62'})]"
   ]
  },
  {
   "cell_type": "code",
   "execution_count": 13,
   "id": "80ee870b-801d-4d79-9ef9-cc463ba0ab6d",
   "metadata": {},
   "outputs": [
    {
     "data": {
      "text/plain": [
       "['653 reviews',\n",
       " '4,906 reviews',\n",
       " '13,527 reviews',\n",
       " '6,878 reviews',\n",
       " '7,512 reviews',\n",
       " '5,426 reviews',\n",
       " '10,925 reviews',\n",
       " '5,750 reviews',\n",
       " '8,179 reviews',\n",
       " '4,426 reviews',\n",
       " '2,895 reviews',\n",
       " '2,414 reviews',\n",
       " '4,565 reviews',\n",
       " '2,482 reviews',\n",
       " '5,095 reviews',\n",
       " '6,959 reviews',\n",
       " '6,855 reviews',\n",
       " '9,918 reviews',\n",
       " '3,448 reviews',\n",
       " '3,391 reviews',\n",
       " '503 reviews',\n",
       " '4,512 reviews',\n",
       " '2,443 reviews',\n",
       " '1,077 reviews',\n",
       " '1,786 reviews']"
      ]
     },
     "execution_count": 13,
     "metadata": {},
     "output_type": "execute_result"
    }
   ],
   "source": [
    "reviews"
   ]
  },
  {
   "cell_type": "code",
   "execution_count": 14,
   "id": "ac2135ab-d263-4da8-8937-9bbf6fa75111",
   "metadata": {},
   "outputs": [],
   "source": [
    "rating = [rating.text.strip() for rating in webpage_data.findAll('div', {'class' : 'b5cd09854e d10a6220b4'})]"
   ]
  },
  {
   "cell_type": "code",
   "execution_count": 15,
   "id": "e366e903-5445-4d01-9b10-d26b4fe541c5",
   "metadata": {},
   "outputs": [
    {
     "data": {
      "text/plain": [
       "['8.4',\n",
       " '8.9',\n",
       " '6.2',\n",
       " '8.3',\n",
       " '8.4',\n",
       " '8.0',\n",
       " '7.8',\n",
       " '8.0',\n",
       " '8.4',\n",
       " '7.1',\n",
       " '7.2',\n",
       " '6.8',\n",
       " '8.1',\n",
       " '7.8',\n",
       " '7.0',\n",
       " '8.1',\n",
       " '8.7',\n",
       " '7.6',\n",
       " '7.1',\n",
       " '7.8',\n",
       " '7.1',\n",
       " '8.3',\n",
       " '7.7',\n",
       " '8.5',\n",
       " '8.7']"
      ]
     },
     "execution_count": 15,
     "metadata": {},
     "output_type": "execute_result"
    }
   ],
   "source": [
    "rating"
   ]
  },
  {
   "cell_type": "code",
   "execution_count": 16,
   "id": "8eff9753-fbab-4f2f-881a-eb063732da48",
   "metadata": {},
   "outputs": [],
   "source": [
    "room_type = [roomtype.text.strip() for roomtype in webpage_data.find_all('span', {'class' : 'df597226dd'})]"
   ]
  },
  {
   "cell_type": "code",
   "execution_count": 17,
   "id": "ce280433-04df-4b57-8c80-01be79b808fa",
   "metadata": {},
   "outputs": [
    {
     "data": {
      "text/plain": [
       "['Standard Double Room',\n",
       " 'Standard',\n",
       " 'Standard Double Room without Window',\n",
       " 'Double Room without Window',\n",
       " 'Z Inside Double (without a window)',\n",
       " 'Queen Room without Window',\n",
       " 'King Room',\n",
       " 'Double Room without Window',\n",
       " 'Deluxe Double Room',\n",
       " 'Studio',\n",
       " 'Club Double Room',\n",
       " 'Double Room - Disability Access Without Window',\n",
       " 'Queen Room without Window',\n",
       " 'Double Room',\n",
       " 'Superior Double Room',\n",
       " 'Cosy Double - Newly Refurbished',\n",
       " 'Z Inside Double (without a window)',\n",
       " 'Accesible Room',\n",
       " 'The Compact',\n",
       " 'Small Queen Room',\n",
       " 'Queen Hilton Guest Room',\n",
       " 'Queen Room - Non-Smoking',\n",
       " 'Standard Room',\n",
       " 'Compact Double Room',\n",
       " 'Superior Twin Room']"
      ]
     },
     "execution_count": 17,
     "metadata": {},
     "output_type": "execute_result"
    }
   ],
   "source": [
    "room_type"
   ]
  },
  {
   "cell_type": "code",
   "execution_count": 18,
   "id": "4f8c1f39-c7cc-4558-9943-55d6b2860d49",
   "metadata": {},
   "outputs": [],
   "source": [
    "room_price = [reviews.text.strip(' reviews') for reviews in webpage_data.findAll('span', {'class' : 'fcab3ed991 bd73d13072'})]"
   ]
  },
  {
   "cell_type": "code",
   "execution_count": 19,
   "id": "4089c119-fb16-4772-8423-4e630dab90fa",
   "metadata": {},
   "outputs": [
    {
     "data": {
      "text/plain": [
       "['£420',\n",
       " '£426',\n",
       " '£139',\n",
       " '£200',\n",
       " '£200',\n",
       " '£215',\n",
       " '£260',\n",
       " '£220',\n",
       " '£302',\n",
       " '£199',\n",
       " '£268',\n",
       " '£164',\n",
       " '£205',\n",
       " '£229',\n",
       " '£276',\n",
       " '£370',\n",
       " '£260',\n",
       " '£220',\n",
       " '£170',\n",
       " '£239',\n",
       " '£365',\n",
       " '£267',\n",
       " '£255',\n",
       " '£237',\n",
       " '£249']"
      ]
     },
     "execution_count": 19,
     "metadata": {},
     "output_type": "execute_result"
    }
   ],
   "source": [
    "room_price"
   ]
  },
  {
   "cell_type": "code",
   "execution_count": 20,
   "id": "7282a8f7-ea32-4f2b-8285-1a0ba9919d31",
   "metadata": {},
   "outputs": [],
   "source": [
    "data = {\n",
    "    'hotel_name': hotel_name,\n",
    "    'rating_decription': rating_decription,\n",
    "    'reviews': reviews,\n",
    "    'room_type': room_type,\n",
    "    'room_price': room_price,\n",
    "    'rating': rating\n",
    "}"
   ]
  },
  {
   "cell_type": "code",
   "execution_count": 21,
   "id": "c2849980-b9a1-4926-a954-fa53b487022e",
   "metadata": {},
   "outputs": [],
   "source": [
    "hotel_data = pd.DataFrame(data)"
   ]
  },
  {
   "cell_type": "code",
   "execution_count": 22,
   "id": "2833c1d4-4f0d-48b9-956c-3c3bc63c5479",
   "metadata": {},
   "outputs": [
    {
     "data": {
      "text/html": [
       "<div>\n",
       "<style scoped>\n",
       "    .dataframe tbody tr th:only-of-type {\n",
       "        vertical-align: middle;\n",
       "    }\n",
       "\n",
       "    .dataframe tbody tr th {\n",
       "        vertical-align: top;\n",
       "    }\n",
       "\n",
       "    .dataframe thead th {\n",
       "        text-align: right;\n",
       "    }\n",
       "</style>\n",
       "<table border=\"1\" class=\"dataframe\">\n",
       "  <thead>\n",
       "    <tr style=\"text-align: right;\">\n",
       "      <th></th>\n",
       "      <th>hotel_name</th>\n",
       "      <th>rating_decription</th>\n",
       "      <th>reviews</th>\n",
       "      <th>room_type</th>\n",
       "      <th>room_price</th>\n",
       "      <th>rating</th>\n",
       "    </tr>\n",
       "  </thead>\n",
       "  <tbody>\n",
       "    <tr>\n",
       "      <th>0</th>\n",
       "      <td>Sanderson London</td>\n",
       "      <td>Very good</td>\n",
       "      <td>653 reviews</td>\n",
       "      <td>Standard Double Room</td>\n",
       "      <td>£420</td>\n",
       "      <td>8.4</td>\n",
       "    </tr>\n",
       "    <tr>\n",
       "      <th>1</th>\n",
       "      <td>Sea Containers London</td>\n",
       "      <td>Fabulous</td>\n",
       "      <td>4,906 reviews</td>\n",
       "      <td>Standard</td>\n",
       "      <td>£426</td>\n",
       "      <td>8.9</td>\n",
       "    </tr>\n",
       "    <tr>\n",
       "      <th>2</th>\n",
       "      <td>Britannia International Hotel Canary Wharf</td>\n",
       "      <td>Review score</td>\n",
       "      <td>13,527 reviews</td>\n",
       "      <td>Standard Double Room without Window</td>\n",
       "      <td>£139</td>\n",
       "      <td>6.2</td>\n",
       "    </tr>\n",
       "    <tr>\n",
       "      <th>3</th>\n",
       "      <td>The Z Hotel Tottenham Court Road</td>\n",
       "      <td>Very good</td>\n",
       "      <td>6,878 reviews</td>\n",
       "      <td>Double Room without Window</td>\n",
       "      <td>£200</td>\n",
       "      <td>8.3</td>\n",
       "    </tr>\n",
       "    <tr>\n",
       "      <th>4</th>\n",
       "      <td>The Z Hotel Holborn</td>\n",
       "      <td>Very good</td>\n",
       "      <td>7,512 reviews</td>\n",
       "      <td>Z Inside Double (without a window)</td>\n",
       "      <td>£200</td>\n",
       "      <td>8.4</td>\n",
       "    </tr>\n",
       "    <tr>\n",
       "      <th>5</th>\n",
       "      <td>The Z Hotel City</td>\n",
       "      <td>Very good</td>\n",
       "      <td>5,426 reviews</td>\n",
       "      <td>Queen Room without Window</td>\n",
       "      <td>£215</td>\n",
       "      <td>8.0</td>\n",
       "    </tr>\n",
       "    <tr>\n",
       "      <th>6</th>\n",
       "      <td>DoubleTree by Hilton Hotel London - Tower of L...</td>\n",
       "      <td>Good</td>\n",
       "      <td>10,925 reviews</td>\n",
       "      <td>King Room</td>\n",
       "      <td>£260</td>\n",
       "      <td>7.8</td>\n",
       "    </tr>\n",
       "    <tr>\n",
       "      <th>7</th>\n",
       "      <td>The Z Hotel Victoria</td>\n",
       "      <td>Very good</td>\n",
       "      <td>5,750 reviews</td>\n",
       "      <td>Double Room without Window</td>\n",
       "      <td>£220</td>\n",
       "      <td>8.0</td>\n",
       "    </tr>\n",
       "    <tr>\n",
       "      <th>8</th>\n",
       "      <td>Montcalm Royal London House-City of London</td>\n",
       "      <td>Very good</td>\n",
       "      <td>8,179 reviews</td>\n",
       "      <td>Deluxe Double Room</td>\n",
       "      <td>£302</td>\n",
       "      <td>8.4</td>\n",
       "    </tr>\n",
       "    <tr>\n",
       "      <th>9</th>\n",
       "      <td>Chelsea Cloisters</td>\n",
       "      <td>Good</td>\n",
       "      <td>4,426 reviews</td>\n",
       "      <td>Studio</td>\n",
       "      <td>£199</td>\n",
       "      <td>7.1</td>\n",
       "    </tr>\n",
       "  </tbody>\n",
       "</table>\n",
       "</div>"
      ],
      "text/plain": [
       "                                          hotel_name rating_decription  \\\n",
       "0                                   Sanderson London         Very good   \n",
       "1                              Sea Containers London          Fabulous   \n",
       "2         Britannia International Hotel Canary Wharf      Review score   \n",
       "3                   The Z Hotel Tottenham Court Road         Very good   \n",
       "4                                The Z Hotel Holborn         Very good   \n",
       "5                                   The Z Hotel City         Very good   \n",
       "6  DoubleTree by Hilton Hotel London - Tower of L...              Good   \n",
       "7                               The Z Hotel Victoria         Very good   \n",
       "8         Montcalm Royal London House-City of London         Very good   \n",
       "9                                  Chelsea Cloisters              Good   \n",
       "\n",
       "          reviews                            room_type room_price rating  \n",
       "0     653 reviews                 Standard Double Room       £420    8.4  \n",
       "1   4,906 reviews                             Standard       £426    8.9  \n",
       "2  13,527 reviews  Standard Double Room without Window       £139    6.2  \n",
       "3   6,878 reviews           Double Room without Window       £200    8.3  \n",
       "4   7,512 reviews   Z Inside Double (without a window)       £200    8.4  \n",
       "5   5,426 reviews            Queen Room without Window       £215    8.0  \n",
       "6  10,925 reviews                            King Room       £260    7.8  \n",
       "7   5,750 reviews           Double Room without Window       £220    8.0  \n",
       "8   8,179 reviews                   Deluxe Double Room       £302    8.4  \n",
       "9   4,426 reviews                               Studio       £199    7.1  "
      ]
     },
     "execution_count": 22,
     "metadata": {},
     "output_type": "execute_result"
    }
   ],
   "source": [
    "hotel_data.head(10)"
   ]
  },
  {
   "cell_type": "code",
   "execution_count": 23,
   "id": "ac362243-a4f9-456a-ac7e-8af7aa45bf9f",
   "metadata": {},
   "outputs": [
    {
     "data": {
      "text/plain": [
       "(25, 6)"
      ]
     },
     "execution_count": 23,
     "metadata": {},
     "output_type": "execute_result"
    }
   ],
   "source": [
    "hotel_data.shape"
   ]
  },
  {
   "cell_type": "code",
   "execution_count": null,
   "id": "e986e690-60d9-46f8-98a6-52141840bf4a",
   "metadata": {},
   "outputs": [],
   "source": []
  }
 ],
 "metadata": {
  "kernelspec": {
   "display_name": "Python 3 (ipykernel)",
   "language": "python",
   "name": "python3"
  },
  "language_info": {
   "codemirror_mode": {
    "name": "ipython",
    "version": 3
   },
   "file_extension": ".py",
   "mimetype": "text/x-python",
   "name": "python",
   "nbconvert_exporter": "python",
   "pygments_lexer": "ipython3",
   "version": "3.10.2"
  }
 },
 "nbformat": 4,
 "nbformat_minor": 5
}
