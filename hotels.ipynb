{
 "cells": [
  {
   "cell_type": "code",
   "execution_count": 1,
   "id": "7fabb317-f3dc-49a7-98f2-1c7ba48b0af2",
   "metadata": {},
   "outputs": [],
   "source": [
    "from urllib import response\n",
    "import requests\n",
    "from bs4 import BeautifulSoup\n",
    "import re\n",
    "import pandas as pd\n",
    "import matplotlib.pyplot as plt\n",
    "import seaborn as sns\n",
    "import plotly.express as px"
   ]
  },
  {
   "cell_type": "code",
   "execution_count": 23,
   "id": "5a1f11ab-7909-47a7-b2ed-973843502723",
   "metadata": {},
   "outputs": [],
   "source": [
    "#Accessing the url\n",
    "\n",
    "url = 'https://www.booking.com/searchresults.en-gb.html?ss=London&ssne=London&ssne_untouched=London&label=gen173nr-1FCAEoggI46AdIM1gEaFCIAQGYAQm4ARfIAQzYAQHoAQH4AQuIAgGoAgO4AtLB_JEGwAIB0gIkZDg0Y2M3MjYtZjc0Yy00OTI0LWFmNTEtNzFhOTc3MTY0ZjBk2AIG4AIB&sid=828d71aca926f8532f0cb1f47b533b81&aid=304142&lang=en-gb&sb=1&src_elem=sb&src=searchresults&dest_id=-2601889&dest_type=city&checkin=2022-07-16&checkout=2022-07-17&group_adults=2&no_rooms=1&group_children=0&sb_travel_purpose=leisure'"
   ]
  },
  {
   "cell_type": "code",
   "execution_count": 24,
   "id": "48675ac4-93cd-4fa7-8569-8e0bfd3a5952",
   "metadata": {},
   "outputs": [],
   "source": [
    "header = {'User-Agent':'Mozilla/5.0 (Macintosh; Intel Mac OS X 10_13_6) AppleWebKit/537.36 (KHTML, like Gecko) Chrome/71.0.3578.98 Safari/537.36'}"
   ]
  },
  {
   "cell_type": "code",
   "execution_count": 25,
   "id": "0a940d93-2087-4455-a7bc-0e919d0283da",
   "metadata": {},
   "outputs": [],
   "source": [
    "#Get the downloaded web page\n",
    "get_page = requests.get(url, headers=header)"
   ]
  },
  {
   "cell_type": "code",
   "execution_count": 26,
   "id": "18bace4a-f7a4-4fbf-9df0-c7cbff188516",
   "metadata": {},
   "outputs": [
    {
     "data": {
      "text/plain": [
       "200"
      ]
     },
     "execution_count": 26,
     "metadata": {},
     "output_type": "execute_result"
    }
   ],
   "source": [
    "get_page.status_code"
   ]
  },
  {
   "cell_type": "code",
   "execution_count": 27,
   "id": "b20fb63f-7330-4b56-a56b-549604964312",
   "metadata": {},
   "outputs": [
    {
     "data": {
      "text/plain": [
       "1466174"
      ]
     },
     "execution_count": 27,
     "metadata": {},
     "output_type": "execute_result"
    }
   ],
   "source": [
    "response = get_page.content\n",
    "len(response)"
   ]
  },
  {
   "cell_type": "code",
   "execution_count": 28,
   "id": "993bd3fe-0744-483d-8d0b-82c95bcc1247",
   "metadata": {},
   "outputs": [],
   "source": [
    "#Getting the web data using beautiful soup\n",
    "\n",
    "webpage_data = BeautifulSoup(response, 'html5lib')"
   ]
  },
  {
   "cell_type": "code",
   "execution_count": 29,
   "id": "e79fbde3-f382-430d-bb47-8876ae063309",
   "metadata": {},
   "outputs": [],
   "source": [
    "# Getting the the hotel name\n",
    "\n",
    "hotel_name = [name.text for name in webpage_data.findAll('div', {'data-testid' : 'title'})]"
   ]
  },
  {
   "cell_type": "code",
   "execution_count": 30,
   "id": "376651c6-bc5c-4ffe-90b2-4570b7c3bef5",
   "metadata": {},
   "outputs": [
    {
     "data": {
      "text/plain": [
       "['Victory House London',\n",
       " 'MSK Superior',\n",
       " 'Angel Townhouse',\n",
       " 'Sea Containers London',\n",
       " 'The Montcalm At Brewery London City',\n",
       " 'Britannia International Hotel Canary Wharf',\n",
       " 'The Barbican Rooms',\n",
       " 'St Mark Hotel',\n",
       " 'Seymour Hotel',\n",
       " 'NYX Hotel London Holborn by Leonardo Hotels',\n",
       " 'Middle Eight - Preferred Hotels and Resorts',\n",
       " 'The Montcalm Marble Arch',\n",
       " 'Inhabit, Southwick Street',\n",
       " 'The Londoner',\n",
       " 'Radisson Blu Edwardian New Providence Wharf Hotel, London',\n",
       " 'The Chilworth London Paddington',\n",
       " 'Park Grand London Kensington',\n",
       " 'Garden Court Hotel',\n",
       " 'Caring Hotel',\n",
       " 'Mabledon Court Hotel',\n",
       " 'The Bridge Hotel',\n",
       " 'Nobu Hotel London Portman Square',\n",
       " 'Sapphire Hotel London',\n",
       " 'City View Hotel',\n",
       " 'Novotel London Canary Wharf']"
      ]
     },
     "execution_count": 30,
     "metadata": {},
     "output_type": "execute_result"
    }
   ],
   "source": [
    "hotel_name"
   ]
  },
  {
   "cell_type": "code",
   "execution_count": 31,
   "id": "2ccf017e-7021-4ecd-9166-3c419f158352",
   "metadata": {},
   "outputs": [],
   "source": [
    "rating_decription = [loc.text.strip('Show on map') for loc in webpage_data.findAll('div', {'class' : 'b5cd09854e f0d4d6a2f5 e46e88563a'})]"
   ]
  },
  {
   "cell_type": "code",
   "execution_count": 32,
   "id": "36a21f7c-3fe4-43c5-999b-2fc2c64ac272",
   "metadata": {},
   "outputs": [
    {
     "data": {
      "text/plain": [
       "['Very good',\n",
       " 'Good',\n",
       " 'Very good',\n",
       " 'Fabulous',\n",
       " 'Good',\n",
       " 'Review score',\n",
       " 'Good',\n",
       " 'Review score',\n",
       " 'Review score',\n",
       " 'Very good',\n",
       " 'Fabulous',\n",
       " 'Very good',\n",
       " 'Very good',\n",
       " 'uperb',\n",
       " 'Fabulous',\n",
       " 'Good',\n",
       " 'Very good',\n",
       " 'Good',\n",
       " 'Good',\n",
       " 'Review score',\n",
       " 'Good',\n",
       " 'Fabulous',\n",
       " 'Review score',\n",
       " 'Review score',\n",
       " 'Fabulous']"
      ]
     },
     "execution_count": 32,
     "metadata": {},
     "output_type": "execute_result"
    }
   ],
   "source": [
    "rating_decription"
   ]
  },
  {
   "cell_type": "code",
   "execution_count": 33,
   "id": "cf4a953b-cc57-4575-a0af-566ac9f37079",
   "metadata": {},
   "outputs": [],
   "source": [
    "reviews = [stat.text.strip() for stat in webpage_data.findAll('div', {'class' : 'd8eab2cf7f c90c0a70d3 db63693c62'})]"
   ]
  },
  {
   "cell_type": "code",
   "execution_count": 34,
   "id": "80ee870b-801d-4d79-9ef9-cc463ba0ab6d",
   "metadata": {},
   "outputs": [
    {
     "data": {
      "text/plain": [
       "['1,912 reviews',\n",
       " '224 reviews',\n",
       " '278 reviews',\n",
       " '4,907 reviews',\n",
       " '2,896 reviews',\n",
       " '13,500 reviews',\n",
       " '2,074 reviews',\n",
       " '1,268 reviews',\n",
       " '300 reviews',\n",
       " '3,738 reviews',\n",
       " '1,099 reviews',\n",
       " '3,215 reviews',\n",
       " '2,651 reviews',\n",
       " '904 reviews',\n",
       " '2,703 reviews',\n",
       " '5,101 reviews',\n",
       " '5,340 reviews',\n",
       " '2,072 reviews',\n",
       " '1,610 reviews',\n",
       " '2,565 reviews',\n",
       " '1,623 reviews',\n",
       " '592 reviews',\n",
       " '1,384 reviews',\n",
       " '1,060 reviews',\n",
       " '4,172 reviews']"
      ]
     },
     "execution_count": 34,
     "metadata": {},
     "output_type": "execute_result"
    }
   ],
   "source": [
    "reviews"
   ]
  },
  {
   "cell_type": "code",
   "execution_count": 35,
   "id": "ac2135ab-d263-4da8-8937-9bbf6fa75111",
   "metadata": {},
   "outputs": [],
   "source": [
    "rating = [rating.text.strip() for rating in webpage_data.findAll('div', {'class' : 'b5cd09854e d10a6220b4'})]"
   ]
  },
  {
   "cell_type": "code",
   "execution_count": 36,
   "id": "e366e903-5445-4d01-9b10-d26b4fe541c5",
   "metadata": {},
   "outputs": [
    {
     "data": {
      "text/plain": [
       "['8.1',\n",
       " '7.4',\n",
       " '8.2',\n",
       " '8.9',\n",
       " '7.2',\n",
       " '6.2',\n",
       " '7.7',\n",
       " '5.5',\n",
       " '5.9',\n",
       " '8.4',\n",
       " '8.9',\n",
       " '8.1',\n",
       " '8.1',\n",
       " '9.2',\n",
       " '8.9',\n",
       " '7.7',\n",
       " '8.3',\n",
       " '7.6',\n",
       " '7.9',\n",
       " '6.6',\n",
       " '7.2',\n",
       " '8.7',\n",
       " '6.3',\n",
       " '5.2',\n",
       " '8.6']"
      ]
     },
     "execution_count": 36,
     "metadata": {},
     "output_type": "execute_result"
    }
   ],
   "source": [
    "rating"
   ]
  },
  {
   "cell_type": "code",
   "execution_count": 37,
   "id": "8eff9753-fbab-4f2f-881a-eb063732da48",
   "metadata": {},
   "outputs": [],
   "source": [
    "room_type = [roomtype.text.strip() for roomtype in webpage_data.find_all('span', {'class' : 'df597226dd'})]"
   ]
  },
  {
   "cell_type": "code",
   "execution_count": 38,
   "id": "ce280433-04df-4b57-8c80-01be79b808fa",
   "metadata": {},
   "outputs": [
    {
     "data": {
      "text/plain": [
       "['Classic Double Room',\n",
       " 'Deluxe Studio',\n",
       " 'Superior Suite',\n",
       " 'Standard',\n",
       " 'Deluxe Double Room',\n",
       " 'Standard Double Room without Window',\n",
       " 'Superior Double Room',\n",
       " 'Double Room',\n",
       " 'Twin Room',\n",
       " 'Superior Double Room',\n",
       " 'Classic Chic',\n",
       " 'Deluxe Double Room',\n",
       " 'Deluxe Double Room',\n",
       " 'King Room',\n",
       " 'Superior King or Twin Room',\n",
       " 'Compact Double Room',\n",
       " 'Superior Double Room',\n",
       " 'Double Room',\n",
       " 'Double Room with Private Bathroom',\n",
       " 'Double Room',\n",
       " 'Double Room',\n",
       " 'Deluxe Double or Twin Room with Balcony',\n",
       " 'Double Room',\n",
       " 'Standard Double Room',\n",
       " 'Superior Double Room']"
      ]
     },
     "execution_count": 38,
     "metadata": {},
     "output_type": "execute_result"
    }
   ],
   "source": [
    "room_type"
   ]
  },
  {
   "cell_type": "code",
   "execution_count": 39,
   "id": "4f8c1f39-c7cc-4558-9943-55d6b2860d49",
   "metadata": {},
   "outputs": [],
   "source": [
    "room_price = [reviews.text.strip(' reviews') for reviews in webpage_data.findAll('span', {'class' : 'fcab3ed991 bd73d13072'})]"
   ]
  },
  {
   "cell_type": "code",
   "execution_count": 40,
   "id": "4089c119-fb16-4772-8423-4e630dab90fa",
   "metadata": {},
   "outputs": [
    {
     "data": {
      "text/plain": [
       "['£324',\n",
       " '£176',\n",
       " '£240',\n",
       " '£426',\n",
       " '£226',\n",
       " '£139',\n",
       " '£214',\n",
       " '£135',\n",
       " '£150',\n",
       " '£449',\n",
       " '£455',\n",
       " '£449',\n",
       " '£276',\n",
       " '£635',\n",
       " '£299',\n",
       " '£355',\n",
       " '£324',\n",
       " '£239',\n",
       " '£269',\n",
       " '£194',\n",
       " '£175',\n",
       " '£709',\n",
       " '£130',\n",
       " '£170',\n",
       " '£269']"
      ]
     },
     "execution_count": 40,
     "metadata": {},
     "output_type": "execute_result"
    }
   ],
   "source": [
    "room_price"
   ]
  },
  {
   "cell_type": "code",
   "execution_count": null,
   "id": "055ea84c-31da-4a6c-8d68-86009617c2de",
   "metadata": {},
   "outputs": [],
   "source": [
    "room_price = [reviews.text.strip(' reviews') for reviews in webpage_data.findAll('span', {'class' : 'fcab3ed991 bd73d13072'})]"
   ]
  }
 ],
 "metadata": {
  "kernelspec": {
   "display_name": "Python 3 (ipykernel)",
   "language": "python",
   "name": "python3"
  },
  "language_info": {
   "codemirror_mode": {
    "name": "ipython",
    "version": 3
   },
   "file_extension": ".py",
   "mimetype": "text/x-python",
   "name": "python",
   "nbconvert_exporter": "python",
   "pygments_lexer": "ipython3",
   "version": "3.10.2"
  }
 },
 "nbformat": 4,
 "nbformat_minor": 5
}
