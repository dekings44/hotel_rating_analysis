{
 "cells": [
  {
   "cell_type": "code",
   "execution_count": 1,
   "id": "7fabb317-f3dc-49a7-98f2-1c7ba48b0af2",
   "metadata": {},
   "outputs": [],
   "source": [
    "from urllib import response\n",
    "import requests\n",
    "from bs4 import BeautifulSoup\n",
    "import re\n",
    "import pandas as pd\n",
    "import matplotlib.pyplot as plt\n",
    "import seaborn as sns\n",
    "import plotly.express as px"
   ]
  },
  {
   "cell_type": "code",
   "execution_count": 2,
   "id": "5a1f11ab-7909-47a7-b2ed-973843502723",
   "metadata": {},
   "outputs": [],
   "source": [
    "#Accessing the url\n",
    "\n",
    "url = 'https://www.booking.com/searchresults.en-gb.html?aid=304142;label=gen173nr-1FCAEoggI46AdIM1gEaFCIAQGYAQm4ARfIAQzYAQHoAQH4AQuIAgGoAgO4AtLB_JEGwAIB0gIkZDg0Y2M3MjYtZjc0Yy00OTI0LWFmNTEtNzFhOTc3MTY0ZjBk2AIG4AIB;sid=828d71aca926f8532f0cb1f47b533b81;dest_id=-2601889;dest_type=city&'"
   ]
  },
  {
   "cell_type": "code",
   "execution_count": 3,
   "id": "48675ac4-93cd-4fa7-8569-8e0bfd3a5952",
   "metadata": {},
   "outputs": [],
   "source": [
    "header = {'User-Agent':'Mozilla/5.0 (Macintosh; Intel Mac OS X 10_13_6) AppleWebKit/537.36 (KHTML, like Gecko) Chrome/71.0.3578.98 Safari/537.36'}"
   ]
  },
  {
   "cell_type": "code",
   "execution_count": 4,
   "id": "0a940d93-2087-4455-a7bc-0e919d0283da",
   "metadata": {},
   "outputs": [],
   "source": [
    "#Get the downloaded web page\n",
    "get_page = requests.get(url, headers=header)"
   ]
  },
  {
   "cell_type": "code",
   "execution_count": 5,
   "id": "18bace4a-f7a4-4fbf-9df0-c7cbff188516",
   "metadata": {},
   "outputs": [
    {
     "data": {
      "text/plain": [
       "200"
      ]
     },
     "execution_count": 5,
     "metadata": {},
     "output_type": "execute_result"
    }
   ],
   "source": [
    "get_page.status_code"
   ]
  },
  {
   "cell_type": "code",
   "execution_count": 6,
   "id": "b20fb63f-7330-4b56-a56b-549604964312",
   "metadata": {},
   "outputs": [
    {
     "data": {
      "text/plain": [
       "1214097"
      ]
     },
     "execution_count": 6,
     "metadata": {},
     "output_type": "execute_result"
    }
   ],
   "source": [
    "response = get_page.content\n",
    "len(response)"
   ]
  },
  {
   "cell_type": "code",
   "execution_count": 7,
   "id": "993bd3fe-0744-483d-8d0b-82c95bcc1247",
   "metadata": {},
   "outputs": [],
   "source": [
    "#Getting the web data using beautiful soup\n",
    "\n",
    "webpage_data = BeautifulSoup(response, 'html5lib')"
   ]
  },
  {
   "cell_type": "code",
   "execution_count": 8,
   "id": "e79fbde3-f382-430d-bb47-8876ae063309",
   "metadata": {},
   "outputs": [],
   "source": [
    "# Getting the the hotel name\n",
    "\n",
    "hotel_name = [name.text for name in webpage_data.findAll('div', {'data-testid' : 'title'})]"
   ]
  },
  {
   "cell_type": "code",
   "execution_count": 9,
   "id": "376651c6-bc5c-4ffe-90b2-4570b7c3bef5",
   "metadata": {},
   "outputs": [
    {
     "data": {
      "text/plain": [
       "['Sea Containers London',\n",
       " 'Point A Hotel London Kings Cross – St Pancras',\n",
       " 'Mayflower Hotel & Apartments',\n",
       " 'Grand Royale London Hyde Park',\n",
       " 'Park Grand Paddington Court',\n",
       " 'Central Park Hotel',\n",
       " 'Astor Court Hotel',\n",
       " 'Phoenix Hotel',\n",
       " 'The Portico Hotel',\n",
       " 'The 29 London',\n",
       " 'The Premier Notting Hill',\n",
       " 'The House of Toby',\n",
       " 'The Sanctuary House Hotel',\n",
       " 'Crestfield Hotel',\n",
       " 'Blakemore Hyde Park',\n",
       " 'Strand Palace Hotel',\n",
       " 'Norfolk Towers Paddington',\n",
       " 'The Montana Hotel',\n",
       " 'Hampton by Hilton London Waterloo',\n",
       " 'Thistle Holborn',\n",
       " 'Dorsett City London',\n",
       " 'Mentone Hotel - B&B',\n",
       " 'The Z Hotel Covent Garden',\n",
       " \"54 Queen's Gate Hotel\",\n",
       " 'Park Grand London Hyde Park']"
      ]
     },
     "execution_count": 9,
     "metadata": {},
     "output_type": "execute_result"
    }
   ],
   "source": [
    "hotel_name"
   ]
  },
  {
   "cell_type": "code",
   "execution_count": 17,
   "id": "2ccf017e-7021-4ecd-9166-3c419f158352",
   "metadata": {},
   "outputs": [],
   "source": [
    "rating_decription = [loc.text.strip('Show on map') for loc in webpage_data.findAll('div', {'class' : 'b5cd09854e f0d4d6a2f5 e46e88563a'})]"
   ]
  },
  {
   "cell_type": "code",
   "execution_count": 18,
   "id": "36a21f7c-3fe4-43c5-999b-2fc2c64ac272",
   "metadata": {},
   "outputs": [
    {
     "data": {
      "text/plain": [
       "['Fabulous',\n",
       " 'Good',\n",
       " 'Good',\n",
       " 'Good',\n",
       " 'Good',\n",
       " 'Review score',\n",
       " 'Very good',\n",
       " 'Very good',\n",
       " 'Good',\n",
       " 'Review score',\n",
       " 'Good',\n",
       " 'Good',\n",
       " 'Fabulous',\n",
       " 'Good',\n",
       " 'Very good',\n",
       " 'Very good',\n",
       " 'Good',\n",
       " 'Very good',\n",
       " 'Very good',\n",
       " 'Very good',\n",
       " 'Very good',\n",
       " 'Good',\n",
       " 'Fabulous',\n",
       " 'Fabulous',\n",
       " 'Good']"
      ]
     },
     "execution_count": 18,
     "metadata": {},
     "output_type": "execute_result"
    }
   ],
   "source": [
    "rating_decription"
   ]
  },
  {
   "cell_type": "code",
   "execution_count": 19,
   "id": "cf4a953b-cc57-4575-a0af-566ac9f37079",
   "metadata": {},
   "outputs": [],
   "source": [
    "reviews = [stat.text.strip() for stat in webpage_data.findAll('div', {'class' : 'd8eab2cf7f c90c0a70d3 db63693c62'})]"
   ]
  },
  {
   "cell_type": "code",
   "execution_count": 20,
   "id": "80ee870b-801d-4d79-9ef9-cc463ba0ab6d",
   "metadata": {},
   "outputs": [
    {
     "data": {
      "text/plain": [
       "['4,906 reviews',\n",
       " '6,541 reviews',\n",
       " '3,656 reviews',\n",
       " '5,091 reviews',\n",
       " '3,414 reviews',\n",
       " '14,328 reviews',\n",
       " '2,523 reviews',\n",
       " '1,991 reviews',\n",
       " '1,224 reviews',\n",
       " '2,526 reviews',\n",
       " '3,801 reviews',\n",
       " '5,036 reviews',\n",
       " '1,785 reviews',\n",
       " '3,513 reviews',\n",
       " '7,622 reviews',\n",
       " '6,950 reviews',\n",
       " '4,281 reviews',\n",
       " '2,569 reviews',\n",
       " '4,512 reviews',\n",
       " '2,378 reviews',\n",
       " '6,267 reviews',\n",
       " '1,768 reviews',\n",
       " '7,553 reviews',\n",
       " '1,227 reviews',\n",
       " '3,378 reviews']"
      ]
     },
     "execution_count": 20,
     "metadata": {},
     "output_type": "execute_result"
    }
   ],
   "source": [
    "reviews"
   ]
  },
  {
   "cell_type": "code",
   "execution_count": null,
   "id": "ac2135ab-d263-4da8-8937-9bbf6fa75111",
   "metadata": {},
   "outputs": [],
   "source": []
  }
 ],
 "metadata": {
  "kernelspec": {
   "display_name": "Python 3 (ipykernel)",
   "language": "python",
   "name": "python3"
  },
  "language_info": {
   "codemirror_mode": {
    "name": "ipython",
    "version": 3
   },
   "file_extension": ".py",
   "mimetype": "text/x-python",
   "name": "python",
   "nbconvert_exporter": "python",
   "pygments_lexer": "ipython3",
   "version": "3.10.2"
  }
 },
 "nbformat": 4,
 "nbformat_minor": 5
}
