{
 "cells": [
  {
   "cell_type": "code",
   "execution_count": 1,
   "id": "73823ef9-bb19-475a-ace7-f90bdede5c4d",
   "metadata": {},
   "outputs": [],
   "source": [
    "from urllib import response\n",
    "import requests\n",
    "from bs4 import BeautifulSoup\n",
    "import csv\n",
    "import re\n",
    "import pandas as pd\n",
    "import numpy as np\n",
    "from time import sleep\n",
    "from random import randint\n",
    "import matplotlib.pyplot as plt\n",
    "import seaborn as sns\n",
    "import plotly.express as px"
   ]
  },
  {
   "cell_type": "code",
   "execution_count": null,
   "id": "f4249798-ea6e-499a-9c87-72ab34f189f5",
   "metadata": {},
   "outputs": [],
   "source": []
  },
  {
   "cell_type": "code",
   "execution_count": null,
   "id": "5100dcfe-2aad-470e-8d1a-457580501087",
   "metadata": {},
   "outputs": [
    {
     "ename": "AttributeError",
     "evalue": "'str' object has no attribute 'keys'",
     "output_type": "error",
     "traceback": [
      "\u001b[1;31m---------------------------------------------------------------------------\u001b[0m",
      "\u001b[1;31mAttributeError\u001b[0m                            Traceback (most recent call last)",
      "\u001b[1;32m~\\AppData\\Local\\Temp/ipykernel_14284/1369173368.py\u001b[0m in \u001b[0;36m<module>\u001b[1;34m\u001b[0m\n\u001b[0;32m     35\u001b[0m         \u001b[0md_writer\u001b[0m \u001b[1;33m=\u001b[0m \u001b[0mcsv\u001b[0m\u001b[1;33m.\u001b[0m\u001b[0mDictWriter\u001b[0m\u001b[1;33m(\u001b[0m\u001b[0mfile\u001b[0m\u001b[1;33m,\u001b[0m \u001b[0mfieldnames\u001b[0m\u001b[1;33m=\u001b[0m\u001b[0mfield\u001b[0m\u001b[1;33m)\u001b[0m\u001b[1;33m\u001b[0m\u001b[1;33m\u001b[0m\u001b[0m\n\u001b[0;32m     36\u001b[0m         \u001b[0md_writer\u001b[0m\u001b[1;33m.\u001b[0m\u001b[0mwriteheader\u001b[0m\u001b[1;33m(\u001b[0m\u001b[1;33m)\u001b[0m\u001b[1;33m\u001b[0m\u001b[1;33m\u001b[0m\u001b[0m\n\u001b[1;32m---> 37\u001b[1;33m         \u001b[0md_writer\u001b[0m\u001b[1;33m.\u001b[0m\u001b[0mwriterows\u001b[0m\u001b[1;33m(\u001b[0m\u001b[0mdata\u001b[0m\u001b[1;33m)\u001b[0m\u001b[1;33m\u001b[0m\u001b[1;33m\u001b[0m\u001b[0m\n\u001b[0m\u001b[0;32m     38\u001b[0m \u001b[1;33m\u001b[0m\u001b[0m\n\u001b[0;32m     39\u001b[0m \u001b[1;33m\u001b[0m\u001b[0m\n",
      "\u001b[1;32m~\\AppData\\Local\\Programs\\Python\\Python310\\lib\\csv.py\u001b[0m in \u001b[0;36mwriterows\u001b[1;34m(self, rowdicts)\u001b[0m\n\u001b[0;32m    155\u001b[0m \u001b[1;33m\u001b[0m\u001b[0m\n\u001b[0;32m    156\u001b[0m     \u001b[1;32mdef\u001b[0m \u001b[0mwriterows\u001b[0m\u001b[1;33m(\u001b[0m\u001b[0mself\u001b[0m\u001b[1;33m,\u001b[0m \u001b[0mrowdicts\u001b[0m\u001b[1;33m)\u001b[0m\u001b[1;33m:\u001b[0m\u001b[1;33m\u001b[0m\u001b[1;33m\u001b[0m\u001b[0m\n\u001b[1;32m--> 157\u001b[1;33m         \u001b[1;32mreturn\u001b[0m \u001b[0mself\u001b[0m\u001b[1;33m.\u001b[0m\u001b[0mwriter\u001b[0m\u001b[1;33m.\u001b[0m\u001b[0mwriterows\u001b[0m\u001b[1;33m(\u001b[0m\u001b[0mmap\u001b[0m\u001b[1;33m(\u001b[0m\u001b[0mself\u001b[0m\u001b[1;33m.\u001b[0m\u001b[0m_dict_to_list\u001b[0m\u001b[1;33m,\u001b[0m \u001b[0mrowdicts\u001b[0m\u001b[1;33m)\u001b[0m\u001b[1;33m)\u001b[0m\u001b[1;33m\u001b[0m\u001b[1;33m\u001b[0m\u001b[0m\n\u001b[0m\u001b[0;32m    158\u001b[0m \u001b[1;33m\u001b[0m\u001b[0m\n\u001b[0;32m    159\u001b[0m \u001b[1;31m# Guard Sniffer's type checking against builds that exclude complex()\u001b[0m\u001b[1;33m\u001b[0m\u001b[1;33m\u001b[0m\u001b[0m\n",
      "\u001b[1;32m~\\AppData\\Local\\Programs\\Python\\Python310\\lib\\csv.py\u001b[0m in \u001b[0;36m_dict_to_list\u001b[1;34m(self, rowdict)\u001b[0m\n\u001b[0;32m    145\u001b[0m     \u001b[1;32mdef\u001b[0m \u001b[0m_dict_to_list\u001b[0m\u001b[1;33m(\u001b[0m\u001b[0mself\u001b[0m\u001b[1;33m,\u001b[0m \u001b[0mrowdict\u001b[0m\u001b[1;33m)\u001b[0m\u001b[1;33m:\u001b[0m\u001b[1;33m\u001b[0m\u001b[1;33m\u001b[0m\u001b[0m\n\u001b[0;32m    146\u001b[0m         \u001b[1;32mif\u001b[0m \u001b[0mself\u001b[0m\u001b[1;33m.\u001b[0m\u001b[0mextrasaction\u001b[0m \u001b[1;33m==\u001b[0m \u001b[1;34m\"raise\"\u001b[0m\u001b[1;33m:\u001b[0m\u001b[1;33m\u001b[0m\u001b[1;33m\u001b[0m\u001b[0m\n\u001b[1;32m--> 147\u001b[1;33m             \u001b[0mwrong_fields\u001b[0m \u001b[1;33m=\u001b[0m \u001b[0mrowdict\u001b[0m\u001b[1;33m.\u001b[0m\u001b[0mkeys\u001b[0m\u001b[1;33m(\u001b[0m\u001b[1;33m)\u001b[0m \u001b[1;33m-\u001b[0m \u001b[0mself\u001b[0m\u001b[1;33m.\u001b[0m\u001b[0mfieldnames\u001b[0m\u001b[1;33m\u001b[0m\u001b[1;33m\u001b[0m\u001b[0m\n\u001b[0m\u001b[0;32m    148\u001b[0m             \u001b[1;32mif\u001b[0m \u001b[0mwrong_fields\u001b[0m\u001b[1;33m:\u001b[0m\u001b[1;33m\u001b[0m\u001b[1;33m\u001b[0m\u001b[0m\n\u001b[0;32m    149\u001b[0m                 raise ValueError(\"dict contains fields not in fieldnames: \"\n",
      "\u001b[1;31mAttributeError\u001b[0m: 'str' object has no attribute 'keys'"
     ]
    }
   ],
   "source": [
    "pages = np.arange(0, 600, 25)\n",
    "\n",
    "for page in pages:\n",
    "    header = {'User-Agent':'Mozilla/5.0 (Macintosh; Intel Mac OS X 10_13_6) AppleWebKit/537.36 (KHTML, like Gecko) Chrome/71.0.3578.98 Safari/537.36'}\n",
    "    \n",
    "    page = requests.get(\"https://www.booking.com/searchresults.en-gb.html?ss=London&ssne=London&ssne_untouched=London&label=gen173nr-1FCAEoggI46AdIM1gEaFCIAQGYAQm4ARfIAQzYAQHoAQH4AQuIAgGoAgO4AtLB_JEGwAIB0gIkZDg0Y2M3MjYtZjc0Yy00OTI0LWFmNTEtNzFhOTc3MTY0ZjBk2AIG4AIB&sid=828d71aca926f8532f0cb1f47b533b81&aid=304142&lang=en-gb&sb=1&src_elem=sb&src=searchresults&dest_id=-2601889&dest_type=city&checkin=2022-08-30&checkout=2022-08-31&group_adults=2&no_rooms=1&group_children=0&sb_travel_purpose=leisure&offset=\" + str(page), headers=header)\n",
    "    \n",
    "    soup = BeautifulSoup(page.content, 'html5lib')\n",
    "    \n",
    "    \n",
    "    \n",
    "            #hotel_name = soup.find_all('div', {'data-testid' : 'title'})\n",
    "    \n",
    "    hotel_name = [name.text for name in soup.findAll('div', {'data-testid' : 'title'})]\n",
    "    rating_decription = [loc.text.strip('Show on map') for loc in soup.findAll('div', {'class' : 'b5cd09854e f0d4d6a2f5 e46e88563a'})]\n",
    "    reviews = [stat.text.strip() for stat in soup.findAll('div', {'class' : 'd8eab2cf7f c90c0a70d3 db63693c62'})]\n",
    "    rating = [rating.text.strip() for rating in soup.findAll('div', {'class' : 'b5cd09854e d10a6220b4'})]\n",
    "    room_type = [roomtype.text.strip() for roomtype in soup.find_all('span', {'class' : 'df597226dd'})]\n",
    "    room_price = [reviews.text.strip(' reviews') for reviews in soup.findAll('span', {'class' : 'fcab3ed991 bd73d13072'})]\n",
    "    \n",
    "    #print(hotel_name)\n",
    "    #print(f'{len(hotel_name)} {len(rating_decription)} {len(reviews)} {len(room_type)} {len(rating)} {len(room_price)}')\n",
    "    \n",
    "    data = {\n",
    "    'hotel_name': hotel_name,\n",
    "    'rating_decription': rating_decription,\n",
    "    'reviews': reviews,\n",
    "    'rating': rating,\n",
    "    'room_type': room_type,\n",
    "    'room_price': room_price\n",
    "    }\n",
    "    \n",
    "    field = ['hotel_name', 'rating_decription', 'reviews', 'rating', 'room_type', 'room_price']\n",
    "    with open(\"hotels.csv\", \"w\", newline=\"\") as file:\n",
    "        d_writer = csv.DictWriter(file, fieldnames=field)\n",
    "        d_writer.writeheader()\n",
    "        d_writer.writerows(data)\n",
    "    \n",
    "    \n",
    "#     hotel_data = pd.DataFrame.from_dict(data, orient = 'index')\n",
    "    \n",
    "#     hotel_data = hotel_data.transpose()\n",
    "    \n",
    "#     hotel_data = hotel_data.append(hotel_data)\n",
    "    \n",
    "#     hotel_data.to_csv('hotel_data.csv', index = None)\n",
    "    \n",
    "#     sleep(randint(2,10))\n",
    "    \n",
    "    \n",
    "    \n"
   ]
  },
  {
   "cell_type": "code",
   "execution_count": 9,
   "id": "1c58bc31-003b-4d97-aae4-a5fc2bf2efdf",
   "metadata": {},
   "outputs": [],
   "source": [
    "#importing the libraries needed \n",
    "import pandas as pd\n",
    "import numpy as np\n",
    "import requests\n",
    "from bs4 import BeautifulSoup\n",
    "from time import sleep\n",
    "from random import randint\n",
    "\n"
   ]
  },
  {
   "cell_type": "code",
   "execution_count": null,
   "id": "730f9af5-cfac-4455-b47e-74a3cdd994dc",
   "metadata": {},
   "outputs": [],
   "source": [
    "#Declaring the headers \n",
    "headers = {'User-Agent':'Mozilla/5.0 (Macintosh; Intel Mac OS X 10_13_6) AppleWebKit/537.36 (KHTML, like Gecko) Chrome/71.0.3578.98 Safari/537.36'}\n",
    "\n",
    "#declaring the list of empty variables, So that we can append the data overall\n",
    "\n",
    "hotel_name = []\n",
    "rating_decription = []\n",
    "reviews = []\n",
    "rating = []\n",
    "room_type = []\n",
    "room_price = []\n",
    "\n",
    "\n",
    "#creating an array of values and passing it in the url for dynamic webpages\n",
    "pages = np.arange(1,1200,25)\n",
    "\n",
    "#the whole core of the script\n",
    "for page in pages:\n",
    "    page = requests.get(\"https://www.booking.com/searchresults.en-gb.html?ss=London&ssne=London&ssne_untouched=London&label=gen173nr-1FCAEoggI46AdIM1gEaFCIAQGYAQm4ARfIAQzYAQHoAQH4AQuIAgGoAgO4AtLB_JEGwAIB0gIkZDg0Y2M3MjYtZjc0Yy00OTI0LWFmNTEtNzFhOTc3MTY0ZjBk2AIG4AIB&sid=828d71aca926f8532f0cb1f47b533b81&aid=304142&lang=en-gb&sb=1&src_elem=sb&src=searchresults&dest_id=-2601889&dest_type=city&checkin=2022-08-30&checkout=2022-08-31&group_adults=2&no_rooms=1&group_children=0&sb_travel_purpose=leisure&offset=\" + str(page))\n",
    "    soup = BeautifulSoup(page.text, 'html.parser')\n",
    "    acc_data = soup.findAll('div', attrs = {'data-testid': 'property-card'})\n",
    "    sleep(randint(2,6))\n",
    "    for store in hotel_data:\n",
    "        name = store.find('div', {'data-testid' : 'title'}).text\n",
    "        hotel_name.append(name)\n",
    "        \n",
    "        rat_desc = store.find('div', {'class' : 'b5cd09854e f0d4d6a2f5 e46e88563a'}).text.strip('Show on map')\n",
    "        rating_decription.append(rat_desc)\n",
    "        \n",
    "        rev = store.find('div', {'class' : 'd8eab2cf7f c90c0a70d3 db63693c62'}).text.strip()\n",
    "        reviews.append(rev)\n",
    "        \n",
    "        rat = store.find('div', {'class' : 'b5cd09854e d10a6220b4'})\n",
    "        rating.append(rat)\n",
    "        \n",
    "        acc_price_dec = store.find('span', {'class' : 'a-price-fraction'})\n",
    "        price_dec.append(acc_price_dec)\n",
    "        \n",
    "        \n"
   ]
  },
  {
   "cell_type": "code",
   "execution_count": null,
   "id": "55cd90b1-346f-4229-a716-0c19afa2eec0",
   "metadata": {},
   "outputs": [],
   "source": [
    "#creating a dataframe \n",
    "acc_list = pd.DataFrame({ \"Name\": acc_name, \"Rating\" : rating, \"Total Rating\": total_rating, \"Price Pounds\": price_whole, \"Price Pence\" : price_dec})"
   ]
  }
 ],
 "metadata": {
  "kernelspec": {
   "display_name": "Python 3 (ipykernel)",
   "language": "python",
   "name": "python3"
  },
  "language_info": {
   "codemirror_mode": {
    "name": "ipython",
    "version": 3
   },
   "file_extension": ".py",
   "mimetype": "text/x-python",
   "name": "python",
   "nbconvert_exporter": "python",
   "pygments_lexer": "ipython3",
   "version": "3.10.2"
  }
 },
 "nbformat": 4,
 "nbformat_minor": 5
}
