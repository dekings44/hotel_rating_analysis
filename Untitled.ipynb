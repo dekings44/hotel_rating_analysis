{
 "cells": [
  {
   "cell_type": "code",
   "execution_count": null,
   "id": "f4249798-ea6e-499a-9c87-72ab34f189f5",
   "metadata": {},
   "outputs": [],
   "source": []
  },
  {
   "cell_type": "code",
   "execution_count": null,
   "id": "5100dcfe-2aad-470e-8d1a-457580501087",
   "metadata": {
    "collapsed": true,
    "jupyter": {
     "outputs_hidden": true,
     "source_hidden": true
    },
    "tags": []
   },
   "outputs": [
    {
     "ename": "AttributeError",
     "evalue": "'str' object has no attribute 'keys'",
     "output_type": "error",
     "traceback": [
      "\u001b[1;31m---------------------------------------------------------------------------\u001b[0m",
      "\u001b[1;31mAttributeError\u001b[0m                            Traceback (most recent call last)",
      "\u001b[1;32m~\\AppData\\Local\\Temp/ipykernel_14284/1369173368.py\u001b[0m in \u001b[0;36m<module>\u001b[1;34m\u001b[0m\n\u001b[0;32m     35\u001b[0m         \u001b[0md_writer\u001b[0m \u001b[1;33m=\u001b[0m \u001b[0mcsv\u001b[0m\u001b[1;33m.\u001b[0m\u001b[0mDictWriter\u001b[0m\u001b[1;33m(\u001b[0m\u001b[0mfile\u001b[0m\u001b[1;33m,\u001b[0m \u001b[0mfieldnames\u001b[0m\u001b[1;33m=\u001b[0m\u001b[0mfield\u001b[0m\u001b[1;33m)\u001b[0m\u001b[1;33m\u001b[0m\u001b[1;33m\u001b[0m\u001b[0m\n\u001b[0;32m     36\u001b[0m         \u001b[0md_writer\u001b[0m\u001b[1;33m.\u001b[0m\u001b[0mwriteheader\u001b[0m\u001b[1;33m(\u001b[0m\u001b[1;33m)\u001b[0m\u001b[1;33m\u001b[0m\u001b[1;33m\u001b[0m\u001b[0m\n\u001b[1;32m---> 37\u001b[1;33m         \u001b[0md_writer\u001b[0m\u001b[1;33m.\u001b[0m\u001b[0mwriterows\u001b[0m\u001b[1;33m(\u001b[0m\u001b[0mdata\u001b[0m\u001b[1;33m)\u001b[0m\u001b[1;33m\u001b[0m\u001b[1;33m\u001b[0m\u001b[0m\n\u001b[0m\u001b[0;32m     38\u001b[0m \u001b[1;33m\u001b[0m\u001b[0m\n\u001b[0;32m     39\u001b[0m \u001b[1;33m\u001b[0m\u001b[0m\n",
      "\u001b[1;32m~\\AppData\\Local\\Programs\\Python\\Python310\\lib\\csv.py\u001b[0m in \u001b[0;36mwriterows\u001b[1;34m(self, rowdicts)\u001b[0m\n\u001b[0;32m    155\u001b[0m \u001b[1;33m\u001b[0m\u001b[0m\n\u001b[0;32m    156\u001b[0m     \u001b[1;32mdef\u001b[0m \u001b[0mwriterows\u001b[0m\u001b[1;33m(\u001b[0m\u001b[0mself\u001b[0m\u001b[1;33m,\u001b[0m \u001b[0mrowdicts\u001b[0m\u001b[1;33m)\u001b[0m\u001b[1;33m:\u001b[0m\u001b[1;33m\u001b[0m\u001b[1;33m\u001b[0m\u001b[0m\n\u001b[1;32m--> 157\u001b[1;33m         \u001b[1;32mreturn\u001b[0m \u001b[0mself\u001b[0m\u001b[1;33m.\u001b[0m\u001b[0mwriter\u001b[0m\u001b[1;33m.\u001b[0m\u001b[0mwriterows\u001b[0m\u001b[1;33m(\u001b[0m\u001b[0mmap\u001b[0m\u001b[1;33m(\u001b[0m\u001b[0mself\u001b[0m\u001b[1;33m.\u001b[0m\u001b[0m_dict_to_list\u001b[0m\u001b[1;33m,\u001b[0m \u001b[0mrowdicts\u001b[0m\u001b[1;33m)\u001b[0m\u001b[1;33m)\u001b[0m\u001b[1;33m\u001b[0m\u001b[1;33m\u001b[0m\u001b[0m\n\u001b[0m\u001b[0;32m    158\u001b[0m \u001b[1;33m\u001b[0m\u001b[0m\n\u001b[0;32m    159\u001b[0m \u001b[1;31m# Guard Sniffer's type checking against builds that exclude complex()\u001b[0m\u001b[1;33m\u001b[0m\u001b[1;33m\u001b[0m\u001b[0m\n",
      "\u001b[1;32m~\\AppData\\Local\\Programs\\Python\\Python310\\lib\\csv.py\u001b[0m in \u001b[0;36m_dict_to_list\u001b[1;34m(self, rowdict)\u001b[0m\n\u001b[0;32m    145\u001b[0m     \u001b[1;32mdef\u001b[0m \u001b[0m_dict_to_list\u001b[0m\u001b[1;33m(\u001b[0m\u001b[0mself\u001b[0m\u001b[1;33m,\u001b[0m \u001b[0mrowdict\u001b[0m\u001b[1;33m)\u001b[0m\u001b[1;33m:\u001b[0m\u001b[1;33m\u001b[0m\u001b[1;33m\u001b[0m\u001b[0m\n\u001b[0;32m    146\u001b[0m         \u001b[1;32mif\u001b[0m \u001b[0mself\u001b[0m\u001b[1;33m.\u001b[0m\u001b[0mextrasaction\u001b[0m \u001b[1;33m==\u001b[0m \u001b[1;34m\"raise\"\u001b[0m\u001b[1;33m:\u001b[0m\u001b[1;33m\u001b[0m\u001b[1;33m\u001b[0m\u001b[0m\n\u001b[1;32m--> 147\u001b[1;33m             \u001b[0mwrong_fields\u001b[0m \u001b[1;33m=\u001b[0m \u001b[0mrowdict\u001b[0m\u001b[1;33m.\u001b[0m\u001b[0mkeys\u001b[0m\u001b[1;33m(\u001b[0m\u001b[1;33m)\u001b[0m \u001b[1;33m-\u001b[0m \u001b[0mself\u001b[0m\u001b[1;33m.\u001b[0m\u001b[0mfieldnames\u001b[0m\u001b[1;33m\u001b[0m\u001b[1;33m\u001b[0m\u001b[0m\n\u001b[0m\u001b[0;32m    148\u001b[0m             \u001b[1;32mif\u001b[0m \u001b[0mwrong_fields\u001b[0m\u001b[1;33m:\u001b[0m\u001b[1;33m\u001b[0m\u001b[1;33m\u001b[0m\u001b[0m\n\u001b[0;32m    149\u001b[0m                 raise ValueError(\"dict contains fields not in fieldnames: \"\n",
      "\u001b[1;31mAttributeError\u001b[0m: 'str' object has no attribute 'keys'"
     ]
    }
   ],
   "source": [
    "# pages = np.arange(0, 600, 25)\n",
    "\n",
    "# for page in pages:\n",
    "#     header = {'User-Agent':'Mozilla/5.0 (Macintosh; Intel Mac OS X 10_13_6) AppleWebKit/537.36 (KHTML, like Gecko) Chrome/71.0.3578.98 Safari/537.36'}\n",
    "    \n",
    "#     page = requests.get(\"https://www.booking.com/searchresults.en-gb.html?ss=London&ssne=London&ssne_untouched=London&label=gen173nr-1FCAEoggI46AdIM1gEaFCIAQGYAQm4ARfIAQzYAQHoAQH4AQuIAgGoAgO4AtLB_JEGwAIB0gIkZDg0Y2M3MjYtZjc0Yy00OTI0LWFmNTEtNzFhOTc3MTY0ZjBk2AIG4AIB&sid=828d71aca926f8532f0cb1f47b533b81&aid=304142&lang=en-gb&sb=1&src_elem=sb&src=searchresults&dest_id=-2601889&dest_type=city&checkin=2022-08-30&checkout=2022-08-31&group_adults=2&no_rooms=1&group_children=0&sb_travel_purpose=leisure&offset=\" + str(page), headers=header)\n",
    "    \n",
    "#     soup = BeautifulSoup(page.content, 'html5lib')\n",
    "    \n",
    "    \n",
    "    \n",
    "#             #hotel_name = soup.find_all('div', {'data-testid' : 'title'})\n",
    "    \n",
    "#     hotel_name = [name.text for name in soup.findAll('div', {'data-testid' : 'title'})]\n",
    "#     rating_decription = [loc.text.strip('Show on map') for loc in soup.findAll('div', {'class' : 'b5cd09854e f0d4d6a2f5 e46e88563a'})]\n",
    "#     reviews = [stat.text.strip() for stat in soup.findAll('div', {'class' : 'd8eab2cf7f c90c0a70d3 db63693c62'})]\n",
    "#     rating = [rating.text.strip() for rating in soup.findAll('div', {'class' : 'b5cd09854e d10a6220b4'})]\n",
    "#     room_type = [roomtype.text.strip() for roomtype in soup.find_all('span', {'class' : 'df597226dd'})]\n",
    "#     room_price = [reviews.text.strip(' reviews') for reviews in soup.findAll('span', {'class' : 'fcab3ed991 bd73d13072'})]\n",
    "    \n",
    "#     #print(hotel_name)\n",
    "#     #print(f'{len(hotel_name)} {len(rating_decription)} {len(reviews)} {len(room_type)} {len(rating)} {len(room_price)}')\n",
    "    \n",
    "#     data = {\n",
    "#     'hotel_name': hotel_name,\n",
    "#     'rating_decription': rating_decription,\n",
    "#     'reviews': reviews,\n",
    "#     'rating': rating,\n",
    "#     'room_type': room_type,\n",
    "#     'room_price': room_price\n",
    "#     }\n",
    "    \n",
    "#     field = ['hotel_name', 'rating_decription', 'reviews', 'rating', 'room_type', 'room_price']\n",
    "#     with open(\"hotels.csv\", \"w\", newline=\"\") as file:\n",
    "#         d_writer = csv.DictWriter(file, fieldnames=field)\n",
    "#         d_writer.writeheader()\n",
    "#         d_writer.writerows(data)\n",
    "    \n",
    "    \n",
    "#     hotel_data = pd.DataFrame.from_dict(data, orient = 'index')\n",
    "    \n",
    "#     hotel_data = hotel_data.transpose()\n",
    "    \n",
    "#     hotel_data = hotel_data.append(hotel_data)\n",
    "    \n",
    "#     hotel_data.to_csv('hotel_data.csv', index = None)\n",
    "    \n",
    "#     sleep(randint(2,10))\n",
    "    \n",
    "    \n",
    "    \n"
   ]
  },
  {
   "cell_type": "code",
   "execution_count": 1,
   "id": "1c58bc31-003b-4d97-aae4-a5fc2bf2efdf",
   "metadata": {},
   "outputs": [],
   "source": [
    "#importing the libraries needed \n",
    "import pandas as pd\n",
    "import numpy as np\n",
    "import requests\n",
    "from bs4 import BeautifulSoup\n",
    "from time import sleep\n",
    "from random import randint\n",
    "\n"
   ]
  },
  {
   "cell_type": "code",
   "execution_count": 3,
   "id": "730f9af5-cfac-4455-b47e-74a3cdd994dc",
   "metadata": {},
   "outputs": [],
   "source": [
    "#Declaring the headers \n",
    "headers = {'User-Agent':'Mozilla/5.0 (Macintosh; Intel Mac OS X 10_13_6) AppleWebKit/537.36 (KHTML, like Gecko) Chrome/71.0.3578.98 Safari/537.36'}\n",
    "\n",
    "#declaring the list of empty variables, So that we can append the data overall\n",
    "\n",
    "hotel_name = []\n",
    "rating_description = []\n",
    "reviews = []\n",
    "rating = []\n",
    "room_type = []\n",
    "room_price = []\n",
    "\n",
    "\n",
    "#creating an array of values and passing it in the url for dynamic webpages\n",
    "pages = np.arange(1,1200,25)\n",
    "\n",
    "#the whole core of the script\n",
    "for page in pages:\n",
    "    page = requests.get(\"https://www.booking.com/searchresults.en-gb.html?ss=London&ssne=London&ssne_untouched=London&label=gen173nr-1FCAEoggI46AdIM1gEaFCIAQGYAQm4ARfIAQzYAQHoAQH4AQuIAgGoAgO4AtLB_JEGwAIB0gIkZDg0Y2M3MjYtZjc0Yy00OTI0LWFmNTEtNzFhOTc3MTY0ZjBk2AIG4AIB&sid=828d71aca926f8532f0cb1f47b533b81&aid=304142&lang=en-gb&sb=1&src_elem=sb&src=searchresults&dest_id=-2601889&dest_type=city&checkin=2022-08-30&checkout=2022-08-31&group_adults=2&no_rooms=1&group_children=0&sb_travel_purpose=leisure&offset=\" + str(page))\n",
    "    soup = BeautifulSoup(page.text, 'html.parser')\n",
    "    hotel_data = soup.findAll('div', attrs = {'data-testid': 'property-card'})\n",
    "    sleep(randint(2,6))\n",
    "    for store in hotel_data:\n",
    "        name = store.find('div', {'data-testid' : 'title'}).text\n",
    "        hotel_name.append(name)\n",
    "        \n",
    "        rat_desc = store.find('div', {'class' : 'b5cd09854e f0d4d6a2f5 e46e88563a'}).text.strip('Show on map') if store.find('div', {'class' : 'b5cd09854e f0d4d6a2f5 e46e88563a'}).text.strip('Show on map') else \" \"\n",
    "        rating_description.append(rat_desc)\n",
    "        \n",
    "        rev = store.find('div', {'class' : 'd8eab2cf7f c90c0a70d3 db63693c62'}).text.strip() if store.find('div', {'class' : 'd8eab2cf7f c90c0a70d3 db63693c62'}).text.strip() else \" \"\n",
    "        reviews.append(rev)\n",
    "        \n",
    "        rat = store.find('div', {'class' : 'b5cd09854e d10a6220b4'}).text.strip()\n",
    "        rating.append(rat)\n",
    "        \n",
    "        room = store.find('span', {'class' : 'df597226dd'}).text.strip()\n",
    "        room_type.append(room)\n",
    "        \n",
    "        room_p = store.find('span', {'class' : 'fcab3ed991 bd73d13072'}).text.strip(' reviews')\n",
    "        room_price.append(room_p)\n",
    "        \n",
    "        \n"
   ]
  },
  {
   "cell_type": "code",
   "execution_count": 4,
   "id": "55cd90b1-346f-4229-a716-0c19afa2eec0",
   "metadata": {},
   "outputs": [],
   "source": [
    "#creating a dataframe \n",
    "acc_list = pd.DataFrame({ \"Hotel Name\": hotel_name, \"Rating Description\" : rating_description, 'Reviews': reviews, \"Total Rating\": rating, \"Room Type\": room_type, \"Room Price\" : room_price})"
   ]
  },
  {
   "cell_type": "code",
   "execution_count": 5,
   "id": "5ae3e064-c0de-4d13-bd02-d54a75867704",
   "metadata": {},
   "outputs": [
    {
     "data": {
      "text/html": [
       "<div>\n",
       "<style scoped>\n",
       "    .dataframe tbody tr th:only-of-type {\n",
       "        vertical-align: middle;\n",
       "    }\n",
       "\n",
       "    .dataframe tbody tr th {\n",
       "        vertical-align: top;\n",
       "    }\n",
       "\n",
       "    .dataframe thead th {\n",
       "        text-align: right;\n",
       "    }\n",
       "</style>\n",
       "<table border=\"1\" class=\"dataframe\">\n",
       "  <thead>\n",
       "    <tr style=\"text-align: right;\">\n",
       "      <th></th>\n",
       "      <th>Hotel Name</th>\n",
       "      <th>Rating Description</th>\n",
       "      <th>Reviews</th>\n",
       "      <th>Total Rating</th>\n",
       "      <th>Room Type</th>\n",
       "      <th>Room Price</th>\n",
       "    </tr>\n",
       "  </thead>\n",
       "  <tbody>\n",
       "  </tbody>\n",
       "</table>\n",
       "</div>"
      ],
      "text/plain": [
       "Empty DataFrame\n",
       "Columns: [Hotel Name, Rating Description, Reviews, Total Rating, Room Type, Room Price]\n",
       "Index: []"
      ]
     },
     "execution_count": 5,
     "metadata": {},
     "output_type": "execute_result"
    }
   ],
   "source": [
    "acc_list.head()"
   ]
  },
  {
   "cell_type": "code",
   "execution_count": null,
   "id": "d62877e2-b54b-4f6a-b305-aa1cdc2d7821",
   "metadata": {},
   "outputs": [],
   "source": []
  }
 ],
 "metadata": {
  "kernelspec": {
   "display_name": "Python 3 (ipykernel)",
   "language": "python",
   "name": "python3"
  },
  "language_info": {
   "codemirror_mode": {
    "name": "ipython",
    "version": 3
   },
   "file_extension": ".py",
   "mimetype": "text/x-python",
   "name": "python",
   "nbconvert_exporter": "python",
   "pygments_lexer": "ipython3",
   "version": "3.10.2"
  }
 },
 "nbformat": 4,
 "nbformat_minor": 5
}
