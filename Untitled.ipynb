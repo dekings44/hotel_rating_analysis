{
 "cells": [
  {
   "cell_type": "code",
   "execution_count": 2,
   "id": "73823ef9-bb19-475a-ace7-f90bdede5c4d",
   "metadata": {},
   "outputs": [],
   "source": [
    "from urllib import response\n",
    "import requests\n",
    "from bs4 import BeautifulSoup\n",
    "import re\n",
    "import pandas as pd\n",
    "import numpy as np\n",
    "from time import sleep\n",
    "from random import randint\n",
    "import matplotlib.pyplot as plt\n",
    "import seaborn as sns\n",
    "import plotly.express as px"
   ]
  },
  {
   "cell_type": "code",
   "execution_count": null,
   "id": "f4249798-ea6e-499a-9c87-72ab34f189f5",
   "metadata": {},
   "outputs": [],
   "source": []
  },
  {
   "cell_type": "code",
   "execution_count": 6,
   "id": "5100dcfe-2aad-470e-8d1a-457580501087",
   "metadata": {},
   "outputs": [],
   "source": [
    "pages = np.arange(0, 600, 25)\n",
    "\n",
    "for page in pages:\n",
    "    header = {'User-Agent':'Mozilla/5.0 (Macintosh; Intel Mac OS X 10_13_6) AppleWebKit/537.36 (KHTML, like Gecko) Chrome/71.0.3578.98 Safari/537.36'}\n",
    "    \n",
    "    page = requests.get(\"https://www.booking.com/searchresults.en-gb.html?ss=London&ssne=London&ssne_untouched=London&label=gen173nr-1FCAEoggI46AdIM1gEaFCIAQGYAQm4ARfIAQzYAQHoAQH4AQuIAgGoAgO4AtLB_JEGwAIB0gIkZDg0Y2M3MjYtZjc0Yy00OTI0LWFmNTEtNzFhOTc3MTY0ZjBk2AIG4AIB&sid=828d71aca926f8532f0cb1f47b533b81&aid=304142&lang=en-gb&sb=1&src_elem=sb&src=searchresults&dest_id=-2601889&dest_type=city&checkin=2022-08-30&checkout=2022-08-31&group_adults=2&no_rooms=1&group_children=0&sb_travel_purpose=leisure&offset=\" + str(page), headers=header)\n",
    "    \n",
    "    soup = BeautifulSoup(page.content, 'html5lib')\n",
    "    \n",
    "    \n",
    "    \n",
    "            #hotel_name = soup.find_all('div', {'data-testid' : 'title'})\n",
    "    \n",
    "    hotel_name = [name.text for name in soup.findAll('div', {'data-testid' : 'title'})]\n",
    "    rating_decription = [loc.text.strip('Show on map') for loc in soup.findAll('div', {'class' : 'b5cd09854e f0d4d6a2f5 e46e88563a'})]\n",
    "    reviews = [stat.text.strip() for stat in soup.findAll('div', {'class' : 'd8eab2cf7f c90c0a70d3 db63693c62'})]\n",
    "    rating = [rating.text.strip() for rating in soup.findAll('div', {'class' : 'b5cd09854e d10a6220b4'})]\n",
    "    room_type = [roomtype.text.strip() for roomtype in soup.find_all('span', {'class' : 'df597226dd'})]\n",
    "    room_price = [reviews.text.strip(' reviews') for reviews in soup.findAll('span', {'class' : 'fcab3ed991 bd73d13072'})]\n",
    "    \n",
    "    #print(hotel_name)\n",
    "    #print(f'{len(hotel_name)} {len(rating_decription)} {len(reviews)} {len(room_type)} {len(rating)} {len(room_price)}')\n",
    "    \n",
    "    data = {\n",
    "    'hotel_name': hotel_name,\n",
    "    'rating_decription': rating_decription,\n",
    "    'reviews': reviews,\n",
    "    'room_type': room_type,\n",
    "    'room_price': room_price,\n",
    "    'rating': rating\n",
    "    }\n",
    "    \n",
    "    \n",
    "    hotel_data = pd.DataFrame.from_dict(data, orient = 'index')\n",
    "    \n",
    "    hotel_data = hotel_data.transpose()\n",
    "    \n",
    "    hotel_data = hotel_data.append(hotel_data)\n",
    "    \n",
    "    hotel_data.to_csv('hotel_data.csv', index = None)\n",
    "    \n",
    "    sleep(randint(2,10))\n",
    "    \n",
    "    \n",
    "    \n"
   ]
  },
  {
   "cell_type": "code",
   "execution_count": 9,
   "id": "1c58bc31-003b-4d97-aae4-a5fc2bf2efdf",
   "metadata": {},
   "outputs": [],
   "source": []
  },
  {
   "cell_type": "code",
   "execution_count": null,
   "id": "730f9af5-cfac-4455-b47e-74a3cdd994dc",
   "metadata": {},
   "outputs": [],
   "source": []
  },
  {
   "cell_type": "code",
   "execution_count": null,
   "id": "55cd90b1-346f-4229-a716-0c19afa2eec0",
   "metadata": {},
   "outputs": [],
   "source": []
  }
 ],
 "metadata": {
  "kernelspec": {
   "display_name": "Python 3 (ipykernel)",
   "language": "python",
   "name": "python3"
  },
  "language_info": {
   "codemirror_mode": {
    "name": "ipython",
    "version": 3
   },
   "file_extension": ".py",
   "mimetype": "text/x-python",
   "name": "python",
   "nbconvert_exporter": "python",
   "pygments_lexer": "ipython3",
   "version": "3.10.2"
  }
 },
 "nbformat": 4,
 "nbformat_minor": 5
}
